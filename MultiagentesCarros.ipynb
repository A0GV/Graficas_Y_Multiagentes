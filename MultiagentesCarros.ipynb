{
  "nbformat": 4,
  "nbformat_minor": 0,
  "metadata": {
    "colab": {
      "provenance": [],
      "include_colab_link": true
    },
    "kernelspec": {
      "name": "python3",
      "display_name": "Python 3"
    },
    "language_info": {
      "name": "python"
    }
  },
  "cells": [
    {
      "cell_type": "markdown",
      "metadata": {
        "id": "view-in-github",
        "colab_type": "text"
      },
      "source": [
        "<a href=\"https://colab.research.google.com/github/A0GV/Graficas_Y_Multiagentes/blob/main/MultiagentesCarros.ipynb\" target=\"_parent\"><img src=\"https://colab.research.google.com/assets/colab-badge.svg\" alt=\"Open In Colab\"/></a>"
      ]
    },
    {
      "cell_type": "markdown",
      "source": [
        "# Librerias\n"
      ],
      "metadata": {
        "id": "3kOz-ZWcSE0G"
      }
    },
    {
      "cell_type": "code",
      "execution_count": null,
      "metadata": {
        "id": "4Uvr4SQHRkDt",
        "outputId": "410172c6-28b3-4fba-e0bc-a682a5d8f834",
        "colab": {
          "base_uri": "https://localhost:8080/"
        }
      },
      "outputs": [
        {
          "output_type": "stream",
          "name": "stdout",
          "text": [
            "Collecting agentpy\n",
            "  Downloading agentpy-0.1.5-py3-none-any.whl.metadata (3.3 kB)\n",
            "Requirement already satisfied: numpy>=1.19 in /usr/local/lib/python3.12/dist-packages (from agentpy) (2.0.2)\n",
            "Requirement already satisfied: scipy>=1.5.2 in /usr/local/lib/python3.12/dist-packages (from agentpy) (1.16.1)\n",
            "Requirement already satisfied: matplotlib>=3.3.3 in /usr/local/lib/python3.12/dist-packages (from agentpy) (3.10.0)\n",
            "Requirement already satisfied: networkx>=2.5 in /usr/local/lib/python3.12/dist-packages (from agentpy) (3.5)\n",
            "Requirement already satisfied: pandas>=1.1.3 in /usr/local/lib/python3.12/dist-packages (from agentpy) (2.2.2)\n",
            "Collecting SALib>=1.3.7 (from agentpy)\n",
            "  Downloading salib-1.5.1-py3-none-any.whl.metadata (11 kB)\n",
            "Requirement already satisfied: joblib>=1.1.0 in /usr/local/lib/python3.12/dist-packages (from agentpy) (1.5.1)\n",
            "Requirement already satisfied: contourpy>=1.0.1 in /usr/local/lib/python3.12/dist-packages (from matplotlib>=3.3.3->agentpy) (1.3.3)\n",
            "Requirement already satisfied: cycler>=0.10 in /usr/local/lib/python3.12/dist-packages (from matplotlib>=3.3.3->agentpy) (0.12.1)\n",
            "Requirement already satisfied: fonttools>=4.22.0 in /usr/local/lib/python3.12/dist-packages (from matplotlib>=3.3.3->agentpy) (4.59.1)\n",
            "Requirement already satisfied: kiwisolver>=1.3.1 in /usr/local/lib/python3.12/dist-packages (from matplotlib>=3.3.3->agentpy) (1.4.9)\n",
            "Requirement already satisfied: packaging>=20.0 in /usr/local/lib/python3.12/dist-packages (from matplotlib>=3.3.3->agentpy) (25.0)\n",
            "Requirement already satisfied: pillow>=8 in /usr/local/lib/python3.12/dist-packages (from matplotlib>=3.3.3->agentpy) (11.3.0)\n",
            "Requirement already satisfied: pyparsing>=2.3.1 in /usr/local/lib/python3.12/dist-packages (from matplotlib>=3.3.3->agentpy) (3.2.3)\n",
            "Requirement already satisfied: python-dateutil>=2.7 in /usr/local/lib/python3.12/dist-packages (from matplotlib>=3.3.3->agentpy) (2.9.0.post0)\n",
            "Requirement already satisfied: pytz>=2020.1 in /usr/local/lib/python3.12/dist-packages (from pandas>=1.1.3->agentpy) (2025.2)\n",
            "Requirement already satisfied: tzdata>=2022.7 in /usr/local/lib/python3.12/dist-packages (from pandas>=1.1.3->agentpy) (2025.2)\n",
            "Requirement already satisfied: multiprocess in /usr/local/lib/python3.12/dist-packages (from SALib>=1.3.7->agentpy) (0.70.16)\n",
            "Requirement already satisfied: six>=1.5 in /usr/local/lib/python3.12/dist-packages (from python-dateutil>=2.7->matplotlib>=3.3.3->agentpy) (1.17.0)\n",
            "Requirement already satisfied: dill>=0.3.8 in /usr/local/lib/python3.12/dist-packages (from multiprocess->SALib>=1.3.7->agentpy) (0.3.8)\n",
            "Downloading agentpy-0.1.5-py3-none-any.whl (53 kB)\n",
            "\u001b[2K   \u001b[90m━━━━━━━━━━━━━━━━━━━━━━━━━━━━━━━━━━━━━━━━\u001b[0m \u001b[32m53.9/53.9 kB\u001b[0m \u001b[31m2.6 MB/s\u001b[0m eta \u001b[36m0:00:00\u001b[0m\n",
            "\u001b[?25hDownloading salib-1.5.1-py3-none-any.whl (778 kB)\n",
            "\u001b[2K   \u001b[90m━━━━━━━━━━━━━━━━━━━━━━━━━━━━━━━━━━━━━━━━\u001b[0m \u001b[32m778.9/778.9 kB\u001b[0m \u001b[31m20.0 MB/s\u001b[0m eta \u001b[36m0:00:00\u001b[0m\n",
            "\u001b[?25hInstalling collected packages: SALib, agentpy\n",
            "Successfully installed SALib-1.5.1 agentpy-0.1.5\n"
          ]
        }
      ],
      "source": [
        "!pip install agentpy\n",
        "# Model design\n",
        "import agentpy as ap\n",
        "import numpy as np\n",
        "\n",
        "# Visualization\n",
        "import matplotlib.pyplot as plt\n",
        "import IPython"
      ]
    },
    {
      "cell_type": "markdown",
      "source": [
        "# Modelo"
      ],
      "metadata": {
        "id": "n3e6Ts5dSDWI"
      }
    },
    {
      "cell_type": "code",
      "source": [
        "class Car(ap.Agent):\n",
        "    \"\"\" Setup car \"\"\"\n",
        "    def setup(self):\n",
        "        # Ref a cruce\n",
        "        self.intersect = self.model.intersect\n",
        "\n",
        "    def setup_velocity(self):\n",
        "        # De acuerdo al carril inicial, se asigna velocidad (dirección)\n",
        "        self.velocity = np.array([1,0]) if self.get_position()[0] == 1 else np.array([0,1])\n",
        "\n",
        "    # Get agent position on intersection\n",
        "    def get_position(self):\n",
        "        return self.intersect.positions[self]\n",
        "\n",
        "    # Update pos using velocity given\n",
        "    def update_position(self):\n",
        "        self.intersect.move_by(self, self.velocity)\n",
        "\n",
        "        # Aleatoriamente acelera o frena.\n",
        "        #if np.random.rand() < .5:\n",
        "        #    self.acelera() if np.random.rand() < .5 else self.frena()\n",
        "        #self.city.move_by(self, np.round(np.array(self.velocity)).astype(int))\n",
        "\n",
        "    # Acelera using 10% of current velocity\n",
        "    def acelera(self):\n",
        "        self.velocity[0] = 1.10 * self.velocity[0]\n",
        "        self.velocity[1] = 1.10 * self.velocity[1]\n",
        "\n",
        "    # Frena un 10% de la velocidad actual\n",
        "    def frena(self):\n",
        "        self.velocity[0] = .9 * self.velocity[0]\n",
        "        self.velocity[1] = .9 * self.velocity[1]\n",
        "\n",
        "  print(\"Prueba\")"
      ],
      "metadata": {
        "id": "3zHyERUtSLPl"
      },
      "execution_count": null,
      "outputs": []
    }
  ]
}